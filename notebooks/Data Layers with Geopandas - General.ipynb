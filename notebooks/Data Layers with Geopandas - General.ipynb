{
 "cells": [
  {
   "cell_type": "markdown",
   "metadata": {},
   "source": [
    "<b>Objective:</b> To get a basic idea of what's in a GIS shapely file, using geopandas."
   ]
  },
  {
   "cell_type": "code",
   "execution_count": 2,
   "metadata": {
    "collapsed": false
   },
   "outputs": [],
   "source": [
    "## Import packages\n",
    "%matplotlib inline\n",
    "import geopandas as gpd\n",
    "import pandas as pd\n",
    "import matplotlib\n",
    "import matplotlib.pyplot as plt\n",
    "pd.options.display.max_rows = 4"
   ]
  },
  {
   "cell_type": "markdown",
   "metadata": {},
   "source": [
    "<font size = 4> Read Files </font>\n",
    "<n> Note: All relevant GIS files must be in the folder where the .shp file is."
   ]
  },
  {
   "cell_type": "code",
   "execution_count": 3,
   "metadata": {
    "collapsed": false
   },
   "outputs": [],
   "source": [
    "## Portland Maps shapely filepaths\n",
    "\n",
    "## My Filepath (replace this with your own):\n",
    "folder_path = '/Users/sofiawright/Documents/Hack_Oregon/Datasets/'\n",
    "\n",
    "# Bridges\n",
    "filepath_bridges = folder_path + 'Major_River_Bridges/Major_River_Bridges.shp'\n",
    "# Building Footprints\n",
    "filepath_footprints = folder_path + 'Building_Footprints/Building_Footprints.shp'\n",
    "# Community Centers\n",
    "filepath_community_centers = folder_path + 'community_centers/community_centers.shp'\n",
    "# Hospitals\n",
    "filepath_hospitals = folder_path + 'hospitals/hospital.shp'\n",
    "# Neighborhoods\n",
    "filepath_neighborhoods = folder_path + 'Neighborhoods_regions/Neighborhoods_regions.shp'\n",
    "# Railroads\n",
    "filepath_rr = folder_path + 'railroad/railroad.shp'\n",
    "# Unreinforced Masonry Buildings\n",
    "filepath_umb = folder_path + 'Unreinforced_Masonry_Buildings/Unreinforced_Masonry_Buildings.shp'\n"
   ]
  },
  {
   "cell_type": "code",
   "execution_count": 6,
   "metadata": {
    "collapsed": true
   },
   "outputs": [],
   "source": [
    "## DOGAMI gdbtable filepaths\n",
    "\n",
    "## Replace these with your own (see Google Sheets for quick list).\n",
    "filepath_DOGAMI_01 = '/Users/sofiawright/Documents/Hack_Oregon/Datasets/DOGAMI_Main/RDPO_Earthquake_Impact_Analysis_Phase1.gdb/a00000001.gdbtable'\n",
    "filepath_DOGAMI_02 = '/Users/sofiawright/Documents/Hack_Oregon/Datasets/DOGAMI_Main/RDPO_Earthquake_Impact_Analysis_Phase1.gdb/a00000002.gdbtable'\n",
    "filepath_DOGAMI_2b = '/Users/sofiawright/Documents/Hack_Oregon/Datasets/DOGAMI_Main/RDPO_Earthquake_Impact_Analysis_Phase1.gdb/a0000002b.gdbtable'\n",
    "filepath_DOGAMI_2c = '/Users/sofiawright/Documents/Hack_Oregon/Datasets/DOGAMI_Main/RDPO_Earthquake_Impact_Analysis_Phase1.gdb/a0000002c.gdbtable'\n",
    "filepath_DOGAMI_2d = '/Users/sofiawright/Documents/Hack_Oregon/Datasets/DOGAMI_Main/RDPO_Earthquake_Impact_Analysis_Phase1.gdb/a0000002d.gdbtable'\n",
    "filepath_DOGAMI_2e = '/Users/sofiawright/Documents/Hack_Oregon/Datasets/DOGAMI_Main/RDPO_Earthquake_Impact_Analysis_Phase1.gdb/a0000002e.gdbtable'"
   ]
  },
  {
   "cell_type": "code",
   "execution_count": 8,
   "metadata": {
    "collapsed": false
   },
   "outputs": [],
   "source": [
    "## Now that we have the file paths, we can read the data.\n",
    "## Change this to the filepath of your desired shapely file.\n",
    "\n",
    "## For this example, I am looking at the Bridges dataset.\n",
    "\n",
    "filepath = filepath_bridges \n",
    "data = gpd.read_file(filepath)"
   ]
  },
  {
   "cell_type": "markdown",
   "metadata": {},
   "source": [
    "<font size=4> Get an overview sense of the data: </font>\n",
    "- Number of rows and columns.\n",
    "- Memory Usage.\n",
    "- Look at first 3 rows."
   ]
  },
  {
   "cell_type": "code",
   "execution_count": 14,
   "metadata": {
    "collapsed": false
   },
   "outputs": [
    {
     "name": "stdout",
     "output_type": "stream",
     "text": [
      "(15, 8)\n",
      "1040\n"
     ]
    },
    {
     "data": {
      "text/html": [
       "<div>\n",
       "<table border=\"1\" class=\"dataframe\">\n",
       "  <thead>\n",
       "    <tr style=\"text-align: right;\">\n",
       "      <th></th>\n",
       "      <th>OBJECTID</th>\n",
       "      <th>OBJECTID_1</th>\n",
       "      <th>NAME</th>\n",
       "      <th>PAVED</th>\n",
       "      <th>Shape_Leng</th>\n",
       "      <th>Shape_Area</th>\n",
       "      <th>Shape_Le_1</th>\n",
       "      <th>geometry</th>\n",
       "    </tr>\n",
       "  </thead>\n",
       "  <tbody>\n",
       "    <tr>\n",
       "      <th>0</th>\n",
       "      <td>1</td>\n",
       "      <td>1</td>\n",
       "      <td>St. Johns</td>\n",
       "      <td>1</td>\n",
       "      <td>7444.953093</td>\n",
       "      <td>34223.255716</td>\n",
       "      <td>3240.751990</td>\n",
       "      <td>POLYGON ((-122.7573954751302 45.58866614167304...</td>\n",
       "    </tr>\n",
       "    <tr>\n",
       "      <th>1</th>\n",
       "      <td>2</td>\n",
       "      <td>2</td>\n",
       "      <td>Railroad</td>\n",
       "      <td>1</td>\n",
       "      <td>8526.094252</td>\n",
       "      <td>136437.028233</td>\n",
       "      <td>3713.791257</td>\n",
       "      <td>POLYGON ((-122.7426157273226 45.58117846516347...</td>\n",
       "    </tr>\n",
       "    <tr>\n",
       "      <th>2</th>\n",
       "      <td>3</td>\n",
       "      <td>3</td>\n",
       "      <td>Fremont</td>\n",
       "      <td>1</td>\n",
       "      <td>25653.916450</td>\n",
       "      <td>208696.318693</td>\n",
       "      <td>11166.941565</td>\n",
       "      <td>POLYGON ((-122.6766362124356 45.54521960751612...</td>\n",
       "    </tr>\n",
       "    <tr>\n",
       "      <th>3</th>\n",
       "      <td>4</td>\n",
       "      <td>4</td>\n",
       "      <td>Broadway</td>\n",
       "      <td>1</td>\n",
       "      <td>8393.368597</td>\n",
       "      <td>45897.952502</td>\n",
       "      <td>3650.669545</td>\n",
       "      <td>POLYGON ((-122.672025669427 45.53319766280654,...</td>\n",
       "    </tr>\n",
       "  </tbody>\n",
       "</table>\n",
       "</div>"
      ],
      "text/plain": [
       "   OBJECTID  OBJECTID_1       NAME  PAVED    Shape_Leng     Shape_Area  \\\n",
       "0         1           1  St. Johns      1   7444.953093   34223.255716   \n",
       "1         2           2   Railroad      1   8526.094252  136437.028233   \n",
       "2         3           3    Fremont      1  25653.916450  208696.318693   \n",
       "3         4           4   Broadway      1   8393.368597   45897.952502   \n",
       "\n",
       "     Shape_Le_1                                           geometry  \n",
       "0   3240.751990  POLYGON ((-122.7573954751302 45.58866614167304...  \n",
       "1   3713.791257  POLYGON ((-122.7426157273226 45.58117846516347...  \n",
       "2  11166.941565  POLYGON ((-122.6766362124356 45.54521960751612...  \n",
       "3   3650.669545  POLYGON ((-122.672025669427 45.53319766280654,...  "
      ]
     },
     "execution_count": 14,
     "metadata": {},
     "output_type": "execute_result"
    }
   ],
   "source": [
    "print(data.shape) ## Rows and columns.\n",
    "print(data.memory_usage().sum()) ## Total bytes used.\n",
    "data.head(4) ## First three rows."
   ]
  },
  {
   "cell_type": "markdown",
   "metadata": {},
   "source": [
    "<font size=4> Print a list of the fields and their data types. </font>"
   ]
  },
  {
   "cell_type": "code",
   "execution_count": 10,
   "metadata": {
    "collapsed": false
   },
   "outputs": [
    {
     "name": "stdout",
     "output_type": "stream",
     "text": [
      "OBJECTID int64\n",
      "OBJECTID_1 int64\n",
      "NAME object\n",
      "PAVED int64\n",
      "Shape_Leng float64\n",
      "Shape_Area float64\n",
      "Shape_Le_1 float64\n",
      "geometry object\n",
      "\n",
      "\n",
      "OBJECTID\n",
      "OBJECTID_1\n",
      "NAME\n",
      "PAVED\n",
      "Shape_Leng\n",
      "Shape_Area\n",
      "Shape_Le_1\n",
      "geometry\n",
      "\n",
      "\n",
      "int64\n",
      "int64\n",
      "object\n",
      "int64\n",
      "float64\n",
      "float64\n",
      "float64\n",
      "object\n"
     ]
    }
   ],
   "source": [
    "datatypes = data.dtypes\n",
    "for i in range(0,len(datatypes)):\n",
    "    print (datatypes.index[i], datatypes[i])\n",
    "\n",
    "print('\\n')\n",
    "    \n",
    "## For ease of copying into a spreadsheet, I also printed each list separately.\n",
    "# Field names:\n",
    "for i in range(0,len(datatypes)):\n",
    "    print(datatypes.index[i])\n",
    "print('\\n')\n",
    "# Field data types:\n",
    "for i in range(0,len(datatypes)):\n",
    "    print(datatypes[i])"
   ]
  },
  {
   "cell_type": "markdown",
   "metadata": {},
   "source": [
    "<font size=4> Plot the shapely file contents. </font>\n",
    "\n",
    "Note: Geopandas plot function has many of the same input options as matplotlib and panda dataframe options."
   ]
  },
  {
   "cell_type": "code",
   "execution_count": 11,
   "metadata": {
    "collapsed": false
   },
   "outputs": [
    {
     "data": {
      "text/plain": [
       "<matplotlib.axes._subplots.AxesSubplot at 0x11bac0048>"
      ]
     },
     "execution_count": 11,
     "metadata": {},
     "output_type": "execute_result"
    },
    {
     "data": {
      "image/png": "[encoded data removed]",
      "text/plain": [
       "<matplotlib.figure.Figure at 0x11bab0518>"
      ]
     },
     "metadata": {},
     "output_type": "display_data"
    }
   ],
   "source": [
    "data.plot(color='white', edgecolor='black', figsize=(15,15))"
   ]
  },
  {
   "cell_type": "code",
   "execution_count": 17,
   "metadata": {
    "collapsed": false
   },
   "outputs": [
    {
     "name": "stdout",
     "output_type": "stream",
     "text": [
      "St. Johns\n",
      "Railroad\n",
      "Fremont\n",
      "Broadway\n",
      "Steel\n",
      "Burnside\n",
      "Morrison\n",
      "Hawthorne\n",
      "Marquam\n",
      "Ross Island\n",
      "Sellwood\n",
      "Railroad Bridge\n",
      "Glen Jackson\n",
      "Tilikum Crossing\n",
      "I-5\n"
     ]
    }
   ],
   "source": [
    "## View all data for a specific column:\n",
    "## In this case, I am viewing the column 'NAME' in the Bridges data set.\n",
    "\n",
    "for i in range(0,len(data)):\n",
    "    print(data.NAME[i])"
   ]
  },
  {
   "cell_type": "code",
   "execution_count": null,
   "metadata": {
    "collapsed": true
   },
   "outputs": [],
   "source": []
  }
 ],
 "metadata": {
  "kernelspec": {
   "display_name": "Python 3",
   "language": "python",
   "name": "python3"
  },
  "language_info": {
   "codemirror_mode": {
    "name": "ipython",
    "version": 3
   },
   "file_extension": ".py",
   "mimetype": "text/x-python",
   "name": "python",
   "nbconvert_exporter": "python",
   "pygments_lexer": "ipython3",
   "version": "3.6.0"
  }
 },
 "nbformat": 4,
 "nbformat_minor": 2
}
