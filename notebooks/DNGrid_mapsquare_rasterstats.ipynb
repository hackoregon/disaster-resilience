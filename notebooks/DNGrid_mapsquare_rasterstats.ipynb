{
 "cells": [
  {
   "cell_type": "code",
   "execution_count": 1,
   "metadata": {},
   "outputs": [],
   "source": [
    "# Jupyter notebook for analyzing DOGAMI raster data\n",
    "# Computes raster statistics for a (small) square map area within each raster file\n",
    "# The calculation is repeated for each lon/lat point in a grid of points that\n",
    "# are contained within the disaster neighborhoods in Portland\n",
    "import geopandas as gpd\n",
    "#import matplotlib.pyplot as plt\n",
    "import numpy as np\n",
    "import pandas as pd\n",
    "from shapely.geometry import Point\n",
    "from get_mapsquare_rasterstats import get_mapsquare_rasterstats"
   ]
  },
  {
   "cell_type": "code",
   "execution_count": 4,
   "metadata": {},
   "outputs": [
    {
     "name": "stdout",
     "output_type": "stream",
     "text": [
      "[-122.84, 45.43, -122.47, 45.65] 0.002\n",
      "20460 20460\n"
     ]
    }
   ],
   "source": [
    "# Compute grid of lon/lat values that are all contained within the extent of\n",
    "# the disaster neighborhoods\n",
    "delta_dec = 2\n",
    "delta_con = 2\n",
    "geom_params = {\n",
    "    'from_file': {\n",
    "            'name':'./Data/DisasterNeighborhoods_FIXED_final/RLIS_ST_clips_pdx_jurisa_FIXED.dbf',\n",
    "    }\n",
    "}\n",
    "dn_gdf = gpd.read_file(geom_params['from_file']['name'])\n",
    "total_bounds = dn_gdf['geometry'].total_bounds\n",
    "total_bounds = [round(tb, delta_dec) for tb in total_bounds]\n",
    "delta = delta_con*10**-(delta_dec+1)\n",
    "lon_grid, lat_grid = np.mgrid[total_bounds[0]:total_bounds[2]:delta,\n",
    "                              total_bounds[1]:total_bounds[3]:delta]\n",
    "lons = np.ravel(lon_grid)\n",
    "lats = np.ravel(lat_grid)\n",
    "points = gpd.GeoSeries([Point(lon, lat) for lon, lat in zip(lons, lats)])\n",
    "point_in_dn = points.intersects(dn_gdf['geometry'].unary_union)\n",
    "print(total_bounds, delta)\n",
    "print(len(lons), len(lats))"
   ]
  },
  {
   "cell_type": "code",
   "execution_count": 5,
   "metadata": {},
   "outputs": [
    {
     "name": "stdout",
     "output_type": "stream",
     "text": [
      "10593\n"
     ]
    },
    {
     "data": {
      "image/png": "[encoded data removed]",
      "text/plain": [
       "<Figure size 432x288 with 1 Axes>"
      ]
     },
     "metadata": {},
     "output_type": "display_data"
    }
   ],
   "source": [
    "# Make a plot of the center of each square within the lon/lat\n",
    "# grid that lies within the disaster neighborhoods\n",
    "# Should produce dense set of points with outer edge defined by the\n",
    "# boundary of the disaster neighborhoods\n",
    "#fig, ax = plt.subplots(1, figsize=(8, 8))\n",
    "points[point_in_dn].plot()\n",
    "print(len(points[point_in_dn]))"
   ]
  },
  {
   "cell_type": "code",
   "execution_count": null,
   "metadata": {},
   "outputs": [],
   "source": []
  },
  {
   "cell_type": "code",
   "execution_count": null,
   "metadata": {},
   "outputs": [],
   "source": [
    "lons = [-122.6263038077892, -122.6263038077892]\n",
    "lats = [45.4585072924327, 45.4595072924327]\n",
    "# compute raster stats for each lon/lat pair in lons/lats \"grid\"\n",
    "# store results in list of geodataframes, then combine into single gdf\n",
    "gdf_list = []\n",
    "for lon, lat in zip(lons, lats):\n",
    "    print(\"\\nAnalyzing map square centered on lon = {0:0.4f}, lat = {1:0.4f}\".format(lon, lat))\n",
    "    gdf_list.append(get_mapsquare_rasterstats(lon, lat))\n",
    "gdf_final = pd.concat(gdf_list, ignore_index=True)\n",
    "print(gdf_final)"
   ]
  },
  {
   "cell_type": "code",
   "execution_count": null,
   "metadata": {},
   "outputs": [],
   "source": []
  },
  {
   "cell_type": "code",
   "execution_count": null,
   "metadata": {},
   "outputs": [],
   "source": []
  }
 ],
 "metadata": {
  "kernelspec": {
   "display_name": "Python 3",
   "language": "python",
   "name": "python3"
  },
  "language_info": {
   "codemirror_mode": {
    "name": "ipython",
    "version": 3
   },
   "file_extension": ".py",
   "mimetype": "text/x-python",
   "name": "python",
   "nbconvert_exporter": "python",
   "pygments_lexer": "ipython3",
   "version": "3.6.5"
  }
 },
 "nbformat": 4,
 "nbformat_minor": 2
}
